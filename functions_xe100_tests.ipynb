{
 "cells": [
  {
   "cell_type": "markdown",
   "metadata": {},
   "source": [
    "##### Phys 6041 Project - University of Cincinnati:  Fits for Dark Matter Direct Detection\n",
    "\n",
    "Tests for harcoded Xenon100 pipeline - using data from Xenon100 experiment"
   ]
  },
  {
   "cell_type": "code",
   "execution_count": 1,
   "metadata": {},
   "outputs": [],
   "source": [
    "import numpy as np\n",
    "import pyfiles.proj_constants as pc\n",
    "import pyfiles.proj_functions as pf\n",
    "import pyfiles.proj_functions_xe100 as pfxe\n",
    "import pyfiles.unit_tests as ut\n",
    "import scipy.optimize"
   ]
  },
  {
   "cell_type": "code",
   "execution_count": 2,
   "metadata": {},
   "outputs": [],
   "source": [
    "ER = pc.xe_En\n",
    "xsec = pfxe.xsec(ER)\n",
    "vlow = pfxe.vlow(ER,0)\n",
    "vint = pfxe.vintlMB(ER,0)\n",
    "drder = pfxe.drder(ER,0)\n",
    "Gi = pc.xe_Gi\n",
    "rate = pfxe.rate(ER,0)\n",
    "c61u = np.linspace(10**-10,10**-8,5)\n",
    "chi2 = []\n",
    "for i in range(len(c61u)):\n",
    "    chi2 += [pfxe.chi2(c61u[i],ER,0)]\n",
    "chi2 = np.asarray(chi2)"
   ]
  },
  {
   "cell_type": "code",
   "execution_count": 3,
   "metadata": {},
   "outputs": [],
   "source": [
    "dicty = [xsec,vlow,vint,drder,rate,chi2]\n",
    "for i in dicty:\n",
    "    ut.assertarray(i)\n",
    "ut.assertshape(xsec,(len(pc.xe_ni),len(ER)))\n",
    "ut.assertshape(vlow,(len(ER),len(pc.xe_ni)))\n",
    "ut.assertshape(vint,(len(ER),len(pc.xe_ni)))\n",
    "ut.assertshape(drder,np.shape(ER))\n",
    "ut.assertshape(rate,(np.shape(Gi)[1],))\n",
    "ut.assertshape(chi2,np.shape(c61u))"
   ]
  },
  {
   "cell_type": "code",
   "execution_count": 4,
   "metadata": {},
   "outputs": [],
   "source": [
    "init = np.linspace(10**-9,10**-8,5)\n",
    "c61ubest = []\n",
    "for i in range(len(init)):\n",
    "    chimin = pfxe.chi2min(ER,0,init[i],method='nelder-mead')\n",
    "    assert(type(chimin)==scipy.optimize.OptimizeResult)\n",
    "    ut.assertarray(chimin.x)\n",
    "    ut.assertshape(chimin.x,(1,))"
   ]
  },
  {
   "cell_type": "code",
   "execution_count": null,
   "metadata": {},
   "outputs": [],
   "source": []
  }
 ],
 "metadata": {
  "kernelspec": {
   "display_name": "Python 3",
   "language": "python",
   "name": "python3"
  },
  "language_info": {
   "codemirror_mode": {
    "name": "ipython",
    "version": 3
   },
   "file_extension": ".py",
   "mimetype": "text/x-python",
   "name": "python",
   "nbconvert_exporter": "python",
   "pygments_lexer": "ipython3",
   "version": "3.6.5"
  }
 },
 "nbformat": 4,
 "nbformat_minor": 2
}
