{
 "cells": [
  {
   "cell_type": "markdown",
   "metadata": {},
   "source": [
    "##### Phys 6041 Project - University of Cincinnati:  Fits for Dark Matter Direct Detection\n",
    "\n",
    "Tests for general pipeline - using data from Xenon100 experiment"
   ]
  },
  {
   "cell_type": "code",
   "execution_count": 1,
   "metadata": {},
   "outputs": [],
   "source": [
    "import numpy as np\n",
    "import pyfiles.proj_constants as pc\n",
    "import pyfiles.proj_functions as pf\n",
    "import pyfiles.proj_functions_xe100 as pfxe\n",
    "import pyfiles.unit_tests as ut\n",
    "import scipy.optimize"
   ]
  },
  {
   "cell_type": "code",
   "execution_count": 2,
   "metadata": {},
   "outputs": [],
   "source": [
    "v = np.linspace(10**-6,10**-4)\n",
    "v0 = pc.v0\n",
    "ER = pc.xe_En\n",
    "mT = pc.xe_mT\n",
    "uT = pc.xe_uT\n",
    "xsec = pfxe.xsec(ER)\n",
    "nT = pc.xe_nT\n",
    "nx = pc.nx\n",
    "ni = pc.xe_ni\n",
    "Gi = pc.xe_Gi\n",
    "c61u = np.linspace(10**-7,10**-4)\n",
    "nobs = pc.xe_nobs\n",
    "nback = pc.xe_nback\n",
    "err = pc.xe_err\n",
    "t = pc.xe_t\n",
    "init = 0"
   ]
  },
  {
   "cell_type": "code",
   "execution_count": 3,
   "metadata": {},
   "outputs": [],
   "source": [
    "vintd = pf.vintdvMB(v,v0)\n",
    "vlow = pf.vlow(ER,mT[0],uT[0][0])\n",
    "vintl = pf.vintlMB(ER, mT[0], uT[0][0], v0)\n",
    "drder = pf.drder(ER, mT[0], uT[0][0], v0, xsec[0], nT[0], nx[0], ni[0])\n",
    "rate = pf.rate(ER,mT[0],uT[0][0],v0,xsec[0],nT[0],nx[0],ni[0],Gi)\n",
    "chisq = pf.chi2(c61u,ER,mT[0],uT[0][0],v0,xsec[0],nT[0],nx[0],ni[0],Gi,nobs,nback,err,t)\n",
    "chimin = pf.chi2min(init,ER,mT[0],uT[0][0],v0,xsec[0],nT[0],nx[0],ni[0],Gi,nobs,nback,err,t)"
   ]
  },
  {
   "cell_type": "code",
   "execution_count": 4,
   "metadata": {},
   "outputs": [],
   "source": [
    "float_dict = [vintd[0],vlow[0],vintl[0],drder[0],rate[0],chisq[0]]\n",
    "for i in float_dict:\n",
    "    ut.assertfloat(i)\n",
    "for i in float_dict:\n",
    "    ut.assertshape(i,())"
   ]
  },
  {
   "cell_type": "code",
   "execution_count": 5,
   "metadata": {},
   "outputs": [],
   "source": [
    "array_dict = [vintd,vlow,vintl,drder,rate,chisq]\n",
    "for i in array_dict:\n",
    "    ut.assertarray(i)\n",
    "ut.assertshape(vintd,np.shape(v))\n",
    "ut.assertshape(vlow,np.shape(ER))\n",
    "ut.assertshape(vintl,np.shape(ER))\n",
    "ut.assertshape(drder,np.shape(ER))\n",
    "ut.assertshape(rate,(np.shape(pc.xe_Gi)[1],))\n",
    "ut.assertshape(chisq,np.shape(c61u))"
   ]
  },
  {
   "cell_type": "code",
   "execution_count": 6,
   "metadata": {},
   "outputs": [],
   "source": [
    "assert(isinstance(chimin,scipy.optimize.OptimizeResult))\n",
    "ut.assertarray(chimin.x)\n",
    "ut.assertshape(chimin.x,(1,))"
   ]
  },
  {
   "cell_type": "code",
   "execution_count": null,
   "metadata": {},
   "outputs": [],
   "source": []
  }
 ],
 "metadata": {
  "kernelspec": {
   "display_name": "Python 3",
   "language": "python",
   "name": "python3"
  },
  "language_info": {
   "codemirror_mode": {
    "name": "ipython",
    "version": 3
   },
   "file_extension": ".py",
   "mimetype": "text/x-python",
   "name": "python",
   "nbconvert_exporter": "python",
   "pygments_lexer": "ipython3",
   "version": "3.6.5"
  }
 },
 "nbformat": 4,
 "nbformat_minor": 2
}
