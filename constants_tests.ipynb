{
 "cells": [
  {
   "cell_type": "markdown",
   "metadata": {},
   "source": [
    "##### Phys 6041 Project - University of Cincinnati:  Fits for Dark Matter Direct Detection\n",
    "\n",
    "Tests for constants"
   ]
  },
  {
   "cell_type": "code",
   "execution_count": 1,
   "metadata": {},
   "outputs": [],
   "source": [
    "import pyfiles.proj_constants as pc\n",
    "import pyfiles.unit_tests as ut\n",
    "import numpy as np"
   ]
  },
  {
   "cell_type": "code",
   "execution_count": 2,
   "metadata": {},
   "outputs": [],
   "source": [
    "#list(pc.stand_const)"
   ]
  },
  {
   "cell_type": "code",
   "execution_count": 3,
   "metadata": {},
   "outputs": [],
   "source": [
    "ut.assertfloat(pc.v0)"
   ]
  },
  {
   "cell_type": "code",
   "execution_count": 4,
   "metadata": {},
   "outputs": [],
   "source": [
    "#list(pc.stand_const_arrays)"
   ]
  },
  {
   "cell_type": "code",
   "execution_count": 5,
   "metadata": {},
   "outputs": [],
   "source": [
    "for i in pc.stand_const_arrays.values():\n",
    "    ut.assertarray(i)\n",
    "ut.assertshape(pc.nx,np.shape(pc.mx))"
   ]
  },
  {
   "cell_type": "code",
   "execution_count": 6,
   "metadata": {},
   "outputs": [],
   "source": [
    "#list(pc.xe_const_arrays)"
   ]
  },
  {
   "cell_type": "code",
   "execution_count": 7,
   "metadata": {},
   "outputs": [],
   "source": [
    "for i in pc.xe_const_arrays.values():\n",
    "    ut.assertarray(i)\n",
    "ut.assertshape(pc.xe_nn,np.shape(pc.xe_ni))\n",
    "ut.assertshape(pc.xe_mT,np.shape(pc.xe_ni))\n",
    "ut.assertshape(pc.xe_nT,np.shape(pc.xe_ni))\n",
    "ut.assertshape(pc.xe_uT,(len(pc.mx),len(pc.xe_ni)))"
   ]
  },
  {
   "cell_type": "code",
   "execution_count": 8,
   "metadata": {},
   "outputs": [],
   "source": [
    "#list(pc.xe_100_const)"
   ]
  },
  {
   "cell_type": "code",
   "execution_count": 9,
   "metadata": {},
   "outputs": [],
   "source": [
    "ut.assertfloat(pc.xe_t)"
   ]
  },
  {
   "cell_type": "code",
   "execution_count": 10,
   "metadata": {},
   "outputs": [],
   "source": [
    "#list(pc.xe_100_const_arrays)"
   ]
  },
  {
   "cell_type": "code",
   "execution_count": 11,
   "metadata": {},
   "outputs": [],
   "source": [
    "for i in pc.xe_100_const_arrays.values():\n",
    "    ut.assertarray(i)\n",
    "ut.assertshape(pc.xe_En,(np.shape(pc.xe_Gi)[0],))\n",
    "ut.assertshape(pc.xe_nobs,(np.shape(pc.xe_Gi)[1],))\n",
    "ut.assertshape(pc.xe_nback,np.shape(pc.xe_nobs))\n",
    "ut.assertshape(pc.xe_err,np.shape(pc.xe_nobs))"
   ]
  },
  {
   "cell_type": "code",
   "execution_count": 12,
   "metadata": {},
   "outputs": [],
   "source": [
    "#ut.assertarray(pc.v0)"
   ]
  },
  {
   "cell_type": "code",
   "execution_count": 13,
   "metadata": {},
   "outputs": [],
   "source": [
    "#ut.assertfloat(pc.mx)"
   ]
  },
  {
   "cell_type": "code",
   "execution_count": 14,
   "metadata": {},
   "outputs": [],
   "source": [
    "#ut.assertshape(pc.nx,(len(pc.mx)-1,))"
   ]
  },
  {
   "cell_type": "code",
   "execution_count": null,
   "metadata": {},
   "outputs": [],
   "source": []
  }
 ],
 "metadata": {
  "kernelspec": {
   "display_name": "Python 3",
   "language": "python",
   "name": "python3"
  },
  "language_info": {
   "codemirror_mode": {
    "name": "ipython",
    "version": 3
   },
   "file_extension": ".py",
   "mimetype": "text/x-python",
   "name": "python",
   "nbconvert_exporter": "python",
   "pygments_lexer": "ipython3",
   "version": "3.6.5"
  }
 },
 "nbformat": 4,
 "nbformat_minor": 2
}
